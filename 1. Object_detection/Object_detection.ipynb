{
 "cells": [
  {
   "cell_type": "code",
   "execution_count": 1,
   "source": [
    "import cv2, numpy as np\r\n",
    "import math\r\n",
    "import time\r\n",
    "import random\r\n",
    "from matplotlib import pyplot as plt\r\n",
    "%matplotlib inline\r\n",
    "from bokeh.plotting import figure\r\n",
    "from bokeh.io import output_notebook, show, push_notebook\r\n",
    "import argparse\r\n",
    "import os.path\r\n",
    "\r\n",
    "output_notebook()"
   ],
   "outputs": [
    {
     "output_type": "display_data",
     "data": {
      "text/html": [
       "\n",
       "    <div class=\"bk-root\">\n",
       "        <a href=\"https://bokeh.org\" target=\"_blank\" class=\"bk-logo bk-logo-small bk-logo-notebook\"></a>\n",
       "        <span id=\"1001\">Loading BokehJS ...</span>\n",
       "    </div>"
      ]
     },
     "metadata": {}
    },
    {
     "output_type": "display_data",
     "data": {
      "application/javascript": "\n(function(root) {\n  function now() {\n    return new Date();\n  }\n\n  var force = true;\n\n  if (typeof root._bokeh_onload_callbacks === \"undefined\" || force === true) {\n    root._bokeh_onload_callbacks = [];\n    root._bokeh_is_loading = undefined;\n  }\n\n  var JS_MIME_TYPE = 'application/javascript';\n  var HTML_MIME_TYPE = 'text/html';\n  var EXEC_MIME_TYPE = 'application/vnd.bokehjs_exec.v0+json';\n  var CLASS_NAME = 'output_bokeh rendered_html';\n\n  /**\n   * Render data to the DOM node\n   */\n  function render(props, node) {\n    var script = document.createElement(\"script\");\n    node.appendChild(script);\n  }\n\n  /**\n   * Handle when an output is cleared or removed\n   */\n  function handleClearOutput(event, handle) {\n    var cell = handle.cell;\n\n    var id = cell.output_area._bokeh_element_id;\n    var server_id = cell.output_area._bokeh_server_id;\n    // Clean up Bokeh references\n    if (id != null && id in Bokeh.index) {\n      Bokeh.index[id].model.document.clear();\n      delete Bokeh.index[id];\n    }\n\n    if (server_id !== undefined) {\n      // Clean up Bokeh references\n      var cmd = \"from bokeh.io.state import curstate; print(curstate().uuid_to_server['\" + server_id + \"'].get_sessions()[0].document.roots[0]._id)\";\n      cell.notebook.kernel.execute(cmd, {\n        iopub: {\n          output: function(msg) {\n            var id = msg.content.text.trim();\n            if (id in Bokeh.index) {\n              Bokeh.index[id].model.document.clear();\n              delete Bokeh.index[id];\n            }\n          }\n        }\n      });\n      // Destroy server and session\n      var cmd = \"import bokeh.io.notebook as ion; ion.destroy_server('\" + server_id + \"')\";\n      cell.notebook.kernel.execute(cmd);\n    }\n  }\n\n  /**\n   * Handle when a new output is added\n   */\n  function handleAddOutput(event, handle) {\n    var output_area = handle.output_area;\n    var output = handle.output;\n\n    // limit handleAddOutput to display_data with EXEC_MIME_TYPE content only\n    if ((output.output_type != \"display_data\") || (!output.data.hasOwnProperty(EXEC_MIME_TYPE))) {\n      return\n    }\n\n    var toinsert = output_area.element.find(\".\" + CLASS_NAME.split(' ')[0]);\n\n    if (output.metadata[EXEC_MIME_TYPE][\"id\"] !== undefined) {\n      toinsert[toinsert.length - 1].firstChild.textContent = output.data[JS_MIME_TYPE];\n      // store reference to embed id on output_area\n      output_area._bokeh_element_id = output.metadata[EXEC_MIME_TYPE][\"id\"];\n    }\n    if (output.metadata[EXEC_MIME_TYPE][\"server_id\"] !== undefined) {\n      var bk_div = document.createElement(\"div\");\n      bk_div.innerHTML = output.data[HTML_MIME_TYPE];\n      var script_attrs = bk_div.children[0].attributes;\n      for (var i = 0; i < script_attrs.length; i++) {\n        toinsert[toinsert.length - 1].firstChild.setAttribute(script_attrs[i].name, script_attrs[i].value);\n        toinsert[toinsert.length - 1].firstChild.textContent = bk_div.children[0].textContent\n      }\n      // store reference to server id on output_area\n      output_area._bokeh_server_id = output.metadata[EXEC_MIME_TYPE][\"server_id\"];\n    }\n  }\n\n  function register_renderer(events, OutputArea) {\n\n    function append_mime(data, metadata, element) {\n      // create a DOM node to render to\n      var toinsert = this.create_output_subarea(\n        metadata,\n        CLASS_NAME,\n        EXEC_MIME_TYPE\n      );\n      this.keyboard_manager.register_events(toinsert);\n      // Render to node\n      var props = {data: data, metadata: metadata[EXEC_MIME_TYPE]};\n      render(props, toinsert[toinsert.length - 1]);\n      element.append(toinsert);\n      return toinsert\n    }\n\n    /* Handle when an output is cleared or removed */\n    events.on('clear_output.CodeCell', handleClearOutput);\n    events.on('delete.Cell', handleClearOutput);\n\n    /* Handle when a new output is added */\n    events.on('output_added.OutputArea', handleAddOutput);\n\n    /**\n     * Register the mime type and append_mime function with output_area\n     */\n    OutputArea.prototype.register_mime_type(EXEC_MIME_TYPE, append_mime, {\n      /* Is output safe? */\n      safe: true,\n      /* Index of renderer in `output_area.display_order` */\n      index: 0\n    });\n  }\n\n  // register the mime type if in Jupyter Notebook environment and previously unregistered\n  if (root.Jupyter !== undefined) {\n    var events = require('base/js/events');\n    var OutputArea = require('notebook/js/outputarea').OutputArea;\n\n    if (OutputArea.prototype.mime_types().indexOf(EXEC_MIME_TYPE) == -1) {\n      register_renderer(events, OutputArea);\n    }\n  }\n\n  \n  if (typeof (root._bokeh_timeout) === \"undefined\" || force === true) {\n    root._bokeh_timeout = Date.now() + 5000;\n    root._bokeh_failed_load = false;\n  }\n\n  var NB_LOAD_WARNING = {'data': {'text/html':\n     \"<div style='background-color: #fdd'>\\n\"+\n     \"<p>\\n\"+\n     \"BokehJS does not appear to have successfully loaded. If loading BokehJS from CDN, this \\n\"+\n     \"may be due to a slow or bad network connection. Possible fixes:\\n\"+\n     \"</p>\\n\"+\n     \"<ul>\\n\"+\n     \"<li>re-rerun `output_notebook()` to attempt to load from CDN again, or</li>\\n\"+\n     \"<li>use INLINE resources instead, as so:</li>\\n\"+\n     \"</ul>\\n\"+\n     \"<code>\\n\"+\n     \"from bokeh.resources import INLINE\\n\"+\n     \"output_notebook(resources=INLINE)\\n\"+\n     \"</code>\\n\"+\n     \"</div>\"}};\n\n  function display_loaded() {\n    var el = document.getElementById(\"1001\");\n    if (el != null) {\n      el.textContent = \"BokehJS is loading...\";\n    }\n    if (root.Bokeh !== undefined) {\n      if (el != null) {\n        el.textContent = \"BokehJS \" + root.Bokeh.version + \" successfully loaded.\";\n      }\n    } else if (Date.now() < root._bokeh_timeout) {\n      setTimeout(display_loaded, 100)\n    }\n  }\n\n\n  function run_callbacks() {\n    try {\n      root._bokeh_onload_callbacks.forEach(function(callback) {\n        if (callback != null)\n          callback();\n      });\n    } finally {\n      delete root._bokeh_onload_callbacks\n    }\n    console.debug(\"Bokeh: all callbacks have finished\");\n  }\n\n  function load_libs(css_urls, js_urls, callback) {\n    if (css_urls == null) css_urls = [];\n    if (js_urls == null) js_urls = [];\n\n    root._bokeh_onload_callbacks.push(callback);\n    if (root._bokeh_is_loading > 0) {\n      console.debug(\"Bokeh: BokehJS is being loaded, scheduling callback at\", now());\n      return null;\n    }\n    if (js_urls == null || js_urls.length === 0) {\n      run_callbacks();\n      return null;\n    }\n    console.debug(\"Bokeh: BokehJS not loaded, scheduling load and callback at\", now());\n    root._bokeh_is_loading = css_urls.length + js_urls.length;\n\n    function on_load() {\n      root._bokeh_is_loading--;\n      if (root._bokeh_is_loading === 0) {\n        console.debug(\"Bokeh: all BokehJS libraries/stylesheets loaded\");\n        run_callbacks()\n      }\n    }\n\n    function on_error() {\n      console.error(\"failed to load \" + url);\n    }\n\n    for (var i = 0; i < css_urls.length; i++) {\n      var url = css_urls[i];\n      const element = document.createElement(\"link\");\n      element.onload = on_load;\n      element.onerror = on_error;\n      element.rel = \"stylesheet\";\n      element.type = \"text/css\";\n      element.href = url;\n      console.debug(\"Bokeh: injecting link tag for BokehJS stylesheet: \", url);\n      document.body.appendChild(element);\n    }\n\n    const hashes = {\"https://cdn.bokeh.org/bokeh/release/bokeh-2.1.1.min.js\": \"kLr4fYcqcSpbuI95brIH3vnnYCquzzSxHPU6XGQCIkQRGJwhg0StNbj1eegrHs12\", \"https://cdn.bokeh.org/bokeh/release/bokeh-widgets-2.1.1.min.js\": \"xIGPmVtaOm+z0BqfSOMn4lOR6ciex448GIKG4eE61LsAvmGj48XcMQZtKcE/UXZe\", \"https://cdn.bokeh.org/bokeh/release/bokeh-tables-2.1.1.min.js\": \"Dc9u1wF/0zApGIWoBbH77iWEHtdmkuYWG839Uzmv8y8yBLXebjO9ZnERsde5Ln/P\", \"https://cdn.bokeh.org/bokeh/release/bokeh-gl-2.1.1.min.js\": \"cT9JaBz7GiRXdENrJLZNSC6eMNF3nh3fa5fTF51Svp+ukxPdwcU5kGXGPBgDCa2j\"};\n\n    for (var i = 0; i < js_urls.length; i++) {\n      var url = js_urls[i];\n      var element = document.createElement('script');\n      element.onload = on_load;\n      element.onerror = on_error;\n      element.async = false;\n      element.src = url;\n      if (url in hashes) {\n        element.crossOrigin = \"anonymous\";\n        element.integrity = \"sha384-\" + hashes[url];\n      }\n      console.debug(\"Bokeh: injecting script tag for BokehJS library: \", url);\n      document.head.appendChild(element);\n    }\n  };\n\n  function inject_raw_css(css) {\n    const element = document.createElement(\"style\");\n    element.appendChild(document.createTextNode(css));\n    document.body.appendChild(element);\n  }\n\n  \n  var js_urls = [\"https://cdn.bokeh.org/bokeh/release/bokeh-2.1.1.min.js\", \"https://cdn.bokeh.org/bokeh/release/bokeh-widgets-2.1.1.min.js\", \"https://cdn.bokeh.org/bokeh/release/bokeh-tables-2.1.1.min.js\", \"https://cdn.bokeh.org/bokeh/release/bokeh-gl-2.1.1.min.js\"];\n  var css_urls = [];\n  \n\n  var inline_js = [\n    function(Bokeh) {\n      Bokeh.set_log_level(\"info\");\n    },\n    function(Bokeh) {\n    \n    \n    }\n  ];\n\n  function run_inline_js() {\n    \n    if (root.Bokeh !== undefined || force === true) {\n      \n    for (var i = 0; i < inline_js.length; i++) {\n      inline_js[i].call(root, root.Bokeh);\n    }\n    if (force === true) {\n        display_loaded();\n      }} else if (Date.now() < root._bokeh_timeout) {\n      setTimeout(run_inline_js, 100);\n    } else if (!root._bokeh_failed_load) {\n      console.log(\"Bokeh: BokehJS failed to load within specified timeout.\");\n      root._bokeh_failed_load = true;\n    } else if (force !== true) {\n      var cell = $(document.getElementById(\"1001\")).parents('.cell').data().cell;\n      cell.output_area.append_execute_result(NB_LOAD_WARNING)\n    }\n\n  }\n\n  if (root._bokeh_is_loading === 0) {\n    console.debug(\"Bokeh: BokehJS loaded, going straight to plotting\");\n    run_inline_js();\n  } else {\n    load_libs(css_urls, js_urls, function() {\n      console.debug(\"Bokeh: BokehJS plotting callback run at\", now());\n      run_inline_js();\n    });\n  }\n}(window));",
      "application/vnd.bokehjs_load.v0+json": ""
     },
     "metadata": {}
    }
   ],
   "metadata": {}
  },
  {
   "cell_type": "markdown",
   "source": [
    "# YOLO 관련"
   ],
   "metadata": {}
  },
  {
   "cell_type": "code",
   "execution_count": 2,
   "source": [
    "# 초기값 설정\r\n",
    "confThreshold = 0.5  # Confidence threshold\r\n",
    "nmsThreshold = 0.4   # Non-maximum suppression threshold\r\n",
    "inpWidth = 416       # Width of network's input image\r\n",
    "inpHeight = 416      # Height of network's input image\r\n",
    "\r\n",
    "# yolo 네트워크 불러오기\r\n",
    "classesFile = \"coco.names\"\r\n",
    "classes = None\r\n",
    "with open(classesFile, 'rt') as f : classes = f.read().rstrip('\\n').split('\\n')\r\n",
    "\r\n",
    "modelConfiguration = \"yolov3.cfg\"\r\n",
    "modelWeights = \"yolov3.weights\"\r\n",
    "\r\n",
    "net = cv2.dnn.readNetFromDarknet(modelConfiguration, modelWeights)\r\n",
    "net.setPreferableBackend(cv2.dnn.DNN_BACKEND_OPENCV)\r\n",
    "net.setPreferableTarget(cv2.dnn.DNN_TARGET_CPU)"
   ],
   "outputs": [],
   "metadata": {}
  },
  {
   "cell_type": "code",
   "execution_count": 3,
   "source": [
    "# 출력 레이어 가져오기\r\n",
    "def getOutputsNames(net):\r\n",
    "    layersNames = net.getLayerNames()\r\n",
    "    return [layersNames[i[0] - 1] for i in net.getUnconnectedOutLayers()]\r\n",
    "\r\n",
    "# bounding box 그리기\r\n",
    "def drawPred(classId, conf, left, top, right, bottom):\r\n",
    "    cv2.rectangle(frame, (left, top), (right, bottom), (255, 178, 50), 3)\r\n",
    "    \r\n",
    "    label = '%.2f' % conf\r\n",
    "        \r\n",
    "    if classes:\r\n",
    "        assert(classId < len(classes))\r\n",
    "        label = '%s:%s' % (classes[classId], label)\r\n",
    "\r\n",
    "    labelSize, baseLine = cv2.getTextSize(label, cv2.FONT_HERSHEY_SIMPLEX, 0.5, 1)\r\n",
    "    top = max(top, labelSize[1])\r\n",
    "    cv2.rectangle(frame, (left, top - round(1.5*labelSize[1])), (left + round(1.5*labelSize[0]), top + baseLine),\r\n",
    "                 (255, 255, 255), cv2.FILLED)\r\n",
    "    cv2.putText(frame, label, (left, top), cv2.FONT_HERSHEY_SIMPLEX, 0.75, (0,0,0), 2)\r\n",
    "\r\n",
    "# NMS를 적용하여 낮은 confidence의 bounding box 제거\r\n",
    "def postprocess(frame, outs):\r\n",
    "    frameHeight = frame.shape[0]\r\n",
    "    frameWidth = frame.shape[1]\r\n",
    "\r\n",
    "    classIds = []\r\n",
    "    confidences = []\r\n",
    "    boxes = []\r\n",
    "    for out in outs:\r\n",
    "        for detection in out:\r\n",
    "            scores = detection[5:]\r\n",
    "            classId = np.argmax(scores)\r\n",
    "            confidence = scores[classId]\r\n",
    "            if confidence > confThreshold:\r\n",
    "                center_x = int(detection[0] * frameWidth)\r\n",
    "                center_y = int(detection[1] * frameHeight)\r\n",
    "                width = int(detection[2] * frameWidth)\r\n",
    "                height = int(detection[3] * frameHeight)\r\n",
    "                left = int(center_x - width / 2)\r\n",
    "                top = int(center_y - height / 2)\r\n",
    "                classIds.append(classId)\r\n",
    "                confidences.append(float(confidence))\r\n",
    "                boxes.append([left, top, width, height])\r\n",
    "\r\n",
    "    indices = cv2.dnn.NMSBoxes(boxes, confidences, confThreshold, nmsThreshold)\r\n",
    "    for i in indices:\r\n",
    "        i = i[0]\r\n",
    "        box = boxes[i]\r\n",
    "        left = box[0]\r\n",
    "        top = box[1]\r\n",
    "        width = box[2]\r\n",
    "        height = box[3]\r\n",
    "        drawPred(classIds[i], confidences[i], left, top, left + width, top + height)"
   ],
   "outputs": [],
   "metadata": {}
  },
  {
   "cell_type": "markdown",
   "source": [
    "### yolo 영상 저장"
   ],
   "metadata": {}
  },
  {
   "cell_type": "code",
   "execution_count": 11,
   "source": [
    "cap = cv2.VideoCapture('-.mp4')\r\n",
    "\r\n",
    "# 프레임 너비/높이, 초당 프레임 수 확인\r\n",
    "width = cap.get(cv2.CAP_PROP_FRAME_WIDTH) # 또는 cap.get(3)\r\n",
    "height = cap.get(cv2.CAP_PROP_FRAME_HEIGHT) # 또는 cap.get(4)\r\n",
    "fps = cap.get(cv2.CAP_PROP_FPS) # 또는 cap.get(5)\r\n",
    "print('프레임 너비: %d, 프레임 높이: %d, 초당 프레임 수: %d' %(width, height, fps))\r\n",
    "\r\n",
    "fourcc = cv2.VideoWriter_fourcc(*'DIVX') # 코덱 정의\r\n",
    "out = cv2.VideoWriter('-.mp4', fourcc, fps, (int(width), int(height))) # VideoWriter 객체 정의"
   ],
   "outputs": [
    {
     "output_type": "stream",
     "name": "stdout",
     "text": [
      "프레임 너비: 904, 프레임 높이: 512, 초당 프레임 수: 29\n"
     ]
    }
   ],
   "metadata": {}
  },
  {
   "cell_type": "code",
   "execution_count": 6,
   "source": [
    "while cap.isOpened() : \r\n",
    "    ret, frame = cap.read()\r\n",
    "\r\n",
    "    if not ret:\r\n",
    "        print(\"프레임을 수신할 수 없습니다(스트림 끝?). 종료 중 ...\")\r\n",
    "        break\r\n",
    "\r\n",
    "    blob = cv2.dnn.blobFromImage(frame, 1/255, (inpWidth, inpHeight), [0,0,0], 1, crop=False)\r\n",
    "\r\n",
    "    net.setInput(blob)\r\n",
    "    outs = net.forward(getOutputsNames(net))\r\n",
    "    postprocess(frame, outs)\r\n",
    "    \r\n",
    "    out.write(frame)\r\n",
    "    cv2.imshow('out', frame)\r\n",
    "    if cv2.waitKey(40) == ord('q'):\r\n",
    "        break\r\n",
    "\r\n",
    "cap.release()\r\n",
    "out.release()\r\n",
    "cv2.destroyAllWindows()"
   ],
   "outputs": [
    {
     "output_type": "stream",
     "name": "stdout",
     "text": [
      "프레임을 수신할 수 없습니다(스트림 끝?). 종료 중 ...\n"
     ]
    }
   ],
   "metadata": {}
  },
  {
   "cell_type": "markdown",
   "source": [
    "### detection results 좌표 구하기"
   ],
   "metadata": {}
  },
  {
   "cell_type": "code",
   "execution_count": 30,
   "source": [
    "cap = cv2.VideoCapture('-.mp4')\r\n",
    "currentFrame = 0\r\n",
    "while cap.isOpened() : \r\n",
    "    ret, frame = cap.read()\r\n",
    "\r\n",
    "    if not ret:\r\n",
    "        print(\"프레임을 수신할 수 없습니다(스트림 끝?). 종료 중 ...\")\r\n",
    "        break\r\n",
    "\r\n",
    "    blob = cv2.dnn.blobFromImage(frame, 1/255, (inpWidth, inpHeight), [0,0,0], 1, crop=False)\r\n",
    "    \r\n",
    "    net.setInput(blob)\r\n",
    "    outs = net.forward(getOutputsNames(net))\r\n",
    "    \r\n",
    "    frameHeight = frame.shape[0]\r\n",
    "    frameWidth = frame.shape[1]\r\n",
    "\r\n",
    "    classIds = []\r\n",
    "    confidences = []\r\n",
    "    boxes = []\r\n",
    "#     boxes2 = []\r\n",
    "    for out in outs:\r\n",
    "        for detection in out:\r\n",
    "            scores = detection[5:]\r\n",
    "            classId = np.argmax(scores)\r\n",
    "            confidence = scores[classId]\r\n",
    "            if confidence > confThreshold:\r\n",
    "                center_x = int(detection[0] * frameWidth)\r\n",
    "                center_y = int(detection[1] * frameHeight)\r\n",
    "                width = int(detection[2] * frameWidth)\r\n",
    "                height = int(detection[3] * frameHeight)\r\n",
    "                left = int(center_x - width / 2)\r\n",
    "                top = int(center_y - height / 2)\r\n",
    "                classIds.append(classId)\r\n",
    "                confidences.append(float(confidence))\r\n",
    "                boxes.append([left, top, width, height])\r\n",
    "#                 boxes2.append([detection[0], detection[1], detection[2], detection[3]])\r\n",
    "\r\n",
    "    indices = cv2.dnn.NMSBoxes(boxes, confidences, confThreshold, nmsThreshold)\r\n",
    "    f = open(str(currentFrame) + '.txt', 'w')\r\n",
    "    for i in indices:\r\n",
    "        i = i[0]\r\n",
    "        box = boxes[i]\r\n",
    "        classId = classIds[i]\r\n",
    "        left = box[0]\r\n",
    "        top = box[1]\r\n",
    "        width = box[2]\r\n",
    "        height = box[3]\r\n",
    "        confidence = confidences[i]\r\n",
    "#         box2 = boxes2[i]\r\n",
    "        d1 = (left + width / 2) / frameWidth\r\n",
    "        d2 = (top + height / 2) / frameHeight\r\n",
    "        d3 = width / frameWidth\r\n",
    "        d4 = height / frameHeight\r\n",
    "#         drawPred(classIds[i], confidences[i], left, top, left + width, top + height)\r\n",
    "#         data = \"%d %f %f %f %f\\n\" % (classId, d1, d2, d3, d4)\r\n",
    "        if classId == 2 :\r\n",
    "            data = \"%d %f %f %f %f %f\\n\" % (0, confidence, d1, d2, d3, d4)\r\n",
    "        elif classId == 7 :\r\n",
    "            data = \"%d %f %f %f %f %f\\n\" % (1, confidence, d1, d2, d3, d4)\r\n",
    "        else :\r\n",
    "            pass\r\n",
    "        f.write(data)\r\n",
    "#     cv2.imwrite(str(currentFrame) + '.jpg', frame)\r\n",
    "    currentFrame += 1\r\n",
    "    f.close()\r\n",
    "cap.release()"
   ],
   "outputs": [
    {
     "output_type": "stream",
     "name": "stdout",
     "text": [
      "프레임을 수신할 수 없습니다(스트림 끝?). 종료 중 ...\n"
     ]
    }
   ],
   "metadata": {}
  },
  {
   "cell_type": "code",
   "execution_count": null,
   "source": [],
   "outputs": [],
   "metadata": {}
  }
 ],
 "metadata": {
  "kernelspec": {
   "display_name": "Python 3",
   "language": "python",
   "name": "python3"
  },
  "language_info": {
   "codemirror_mode": {
    "name": "ipython",
    "version": 3
   },
   "file_extension": ".py",
   "mimetype": "text/x-python",
   "name": "python",
   "nbconvert_exporter": "python",
   "pygments_lexer": "ipython3",
   "version": "3.8.3"
  }
 },
 "nbformat": 4,
 "nbformat_minor": 4
}